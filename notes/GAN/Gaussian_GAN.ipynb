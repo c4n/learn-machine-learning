{
 "cells": [
  {
   "cell_type": "markdown",
   "metadata": {},
   "source": [
    "# Gaussian Distribution using GAN\n",
    "### Generator:                  \n",
    "Input: 10 random noises         \n",
    "Output: 500 fake samples (that look like they were sampled from the Gaussian distribution)             \n",
    "### Discriminator:                     \n",
    "Input: 500 samples                   \n",
    "Output: it should tell us whether the samples are from real or fake data."
   ]
  },
  {
   "cell_type": "code",
   "execution_count": 1,
   "metadata": {},
   "outputs": [],
   "source": [
    "import numpy as np\n",
    "import torch\n",
    "import torch.nn as nn\n",
    "import torch.optim as optim\n",
    "device = torch.device(\"cuda:0\" if torch.cuda.is_available() else \"cpu\")"
   ]
  },
  {
   "cell_type": "code",
   "execution_count": 2,
   "metadata": {},
   "outputs": [],
   "source": [
    "%matplotlib inline\n",
    "from matplotlib import pyplot as plt"
   ]
  },
  {
   "cell_type": "code",
   "execution_count": 3,
   "metadata": {},
   "outputs": [],
   "source": [
    "# params for the distribution\n",
    "mean = 5.0 \n",
    "sd = 1.0"
   ]
  },
  {
   "cell_type": "code",
   "execution_count": 4,
   "metadata": {},
   "outputs": [
    {
     "data": {
      "text/plain": [
       "(array([ 4.,  1.,  1.,  7.,  8., 23., 22., 45., 54., 49., 56., 48., 58.,\n",
       "        51., 33., 20.,  7.,  8.,  3.,  2.]),\n",
       " array([1.84246481, 2.14201651, 2.44156821, 2.74111991, 3.04067161,\n",
       "        3.34022331, 3.63977502, 3.93932672, 4.23887842, 4.53843012,\n",
       "        4.83798182, 5.13753352, 5.43708522, 5.73663692, 6.03618863,\n",
       "        6.33574033, 6.63529203, 6.93484373, 7.23439543, 7.53394713,\n",
       "        7.83349883]),\n",
       " <a list of 20 Patch objects>)"
      ]
     },
     "execution_count": 4,
     "metadata": {},
     "output_type": "execute_result"
    },
    {
     "data": {
      "image/png": "[encoded data removed]",
      "text/plain": [
       "<Figure size 432x288 with 1 Axes>"
      ]
     },
     "metadata": {
      "needs_background": "light"
     },
     "output_type": "display_data"
    }
   ],
   "source": [
    "# sample gaussian disrtibution \n",
    "#np.random.normal  draws random samples from a normal (Gaussian) distribution\n",
    "sample_size = 500\n",
    "test_samples = np.random.normal(mean, sd, sample_size)\n",
    "plt.hist(test_samples, bins=20)"
   ]
  },
  {
   "cell_type": "code",
   "execution_count": 5,
   "metadata": {},
   "outputs": [
    {
     "data": {
      "text/plain": [
       "tensor([0.3294])"
      ]
     },
     "execution_count": 5,
     "metadata": {},
     "output_type": "execute_result"
    }
   ],
   "source": [
    "# Input noise for generator \n",
    "torch.rand(1)"
   ]
  },
  {
   "cell_type": "code",
   "execution_count": 6,
   "metadata": {},
   "outputs": [],
   "source": [
    "class Generator(nn.Module):\n",
    "    def __init__(self, input_dim, hidden_dim, output_dim):\n",
    "        super(Generator, self).__init__()\n",
    "        self.dense1 = nn.Linear(input_dim, hidden_dim)\n",
    "        self.dense2 = nn.Linear(hidden_dim, output_dim)\n",
    "        self.activation_function = nn.ReLU()\n",
    "\n",
    "    def forward(self, x):\n",
    "        x = self.dense1(x) \n",
    "        x = self.activation_function(x)\n",
    "        x = self.dense2(x)\n",
    "        return x\n",
    "\n",
    "class Discriminator(nn.Module):\n",
    "    def __init__(self, input_dim, hidden_dim, output_dim):\n",
    "        super(Discriminator, self).__init__()\n",
    "        self.dense1 = nn.Linear(input_dim, hidden_dim)\n",
    "        self.dense2 = nn.Linear(hidden_dim, output_dim)\n",
    "        self.activation_function = nn.Sigmoid()\n",
    "\n",
    "    def forward(self, x):\n",
    "        x = self.dense1(x) \n",
    "        x = self.activation_function(x)\n",
    "        x = self.dense2(x)\n",
    "        x = self.activation_function(x)\n",
    "        return x"
   ]
  },
  {
   "cell_type": "code",
   "execution_count": 7,
   "metadata": {},
   "outputs": [],
   "source": [
    "#hyperpara\n",
    "lr_d = 1e-04\n",
    "lr_g = 1e-04\n",
    "g_input_dim = 10 \n",
    "g_hidden_dim = 128\n",
    "d_hidden_dim = 64\n",
    "sample_size = 500\n",
    "\n",
    "train_iter = 10000\n",
    "d_steps = 10\n",
    "g_steps = 2"
   ]
  },
  {
   "cell_type": "code",
   "execution_count": 8,
   "metadata": {},
   "outputs": [],
   "source": [
    "G = Generator(input_dim = g_input_dim,\n",
    "              hidden_dim = g_hidden_dim,\n",
    "              output_dim = sample_size).to(device)\n",
    "\n",
    "D = Discriminator(input_dim = sample_size,\n",
    "              hidden_dim = d_hidden_dim,\n",
    "              output_dim = 1).to(device)\n",
    "\n",
    "criterion = nn.BCELoss().to(device)\n",
    "optimizer_d = optim.Adam(D.parameters(), lr=lr_d)\n",
    "optimizer_g = optim.Adam(G.parameters(), lr=lr_g)"
   ]
  },
  {
   "cell_type": "code",
   "execution_count": 9,
   "metadata": {},
   "outputs": [],
   "source": [
    "save_dist = []\n",
    "for i in range(train_iter):\n",
    "    if i % 100 == 0:\n",
    "        with torch.no_grad():\n",
    "            noise = torch.rand(g_input_dim).to(device)\n",
    "            gen_dist = G(noise).cpu().detach().numpy()\n",
    "            save_dist.append(gen_dist)\n",
    "        \n",
    "    for d_step in range(d_steps):\n",
    "        D.zero_grad()\n",
    "        #Sample minibatch of m noise samples from noise prior p_g(z).\n",
    "        noise = torch.rand(g_input_dim).to(device)\n",
    "        p_g = G(noise)\n",
    "        d_gen_out = D(p_g) \n",
    "        #Sample  minibatch  of m examples from  data  generating  distribution pdata(x)\n",
    "        p_data = torch.Tensor(np.random.normal(mean, sd, sample_size)).to(device)\n",
    "        d_real_out = D(p_data) \n",
    "        #Update the discriminator by ascending its gradient\n",
    "        d_gen_loss = criterion(d_gen_out, torch.zeros([1]).to(device)) \n",
    "        d_gen_loss.backward()\n",
    "        d_real_loss = criterion(d_real_out, torch.ones([1]).to(device)) \n",
    "        d_real_loss.backward()\n",
    "        optimizer_d.step()\n",
    "        \n",
    "        #print(d_gen_loss,d_real_loss)\n",
    "    for g_step in range(g_steps):     \n",
    "        G.zero_grad()\n",
    "        #Sample minibatch of m noise samples from noise prior pg(z).\n",
    "        noise = torch.rand(g_input_dim).to(device)\n",
    "        g_loss = criterion(D(G(noise)) , torch.ones([1]).to(device)) \n",
    "        g_loss.backward()\n",
    "        #Update the generator by descending its gradient\n",
    "        optimizer_g.step()\n",
    "    \n"
   ]
  },
  {
   "cell_type": "markdown",
   "metadata": {},
   "source": [
    "# let's see whether it works\n",
    "you can see that generator can produce distribution closer and closer to the real distribution (mean=5.0, sd=1.0), as  the iteration increases. "
   ]
  },
  {
   "cell_type": "code",
   "execution_count": 11,
   "metadata": {},
   "outputs": [
    {
     "data": {
      "text/plain": [
       "(array([ 3.,  3.,  8., 18., 20., 32., 47., 53., 54., 65., 63., 35., 37.,\n",
       "        32., 12.,  9.,  0.,  4.,  3.,  2.]),\n",
       " array([-0.45284662, -0.40307835, -0.3533101 , -0.30354184, -0.25377357,\n",
       "        -0.20400533, -0.15423706, -0.10446881, -0.05470055, -0.00493229,\n",
       "         0.04483597,  0.09460423,  0.1443725 ,  0.19414075,  0.243909  ,\n",
       "         0.29367727,  0.3434455 ,  0.39321378,  0.44298205,  0.4927503 ,\n",
       "         0.54251856], dtype=float32),\n",
       " <a list of 20 Patch objects>)"
      ]
     },
     "execution_count": 11,
     "metadata": {},
     "output_type": "execute_result"
    },
    {
     "data": {
      "image/png": "[encoded data removed]",
      "text/plain": [
       "<Figure size 432x288 with 1 Axes>"
      ]
     },
     "metadata": {
      "needs_background": "light"
     },
     "output_type": "display_data"
    }
   ],
   "source": [
    "plt.hist(save_dist[0], bins = 20)"
   ]
  },
  {
   "cell_type": "code",
   "execution_count": 12,
   "metadata": {},
   "outputs": [
    {
     "data": {
      "text/plain": [
       "(array([ 4., 10., 29., 41., 39., 37., 31., 23., 32., 25., 23., 20., 23.,\n",
       "        27., 33., 46., 34., 16.,  5.,  2.]),\n",
       " array([-0.3314335 , -0.25346997, -0.17550646, -0.09754293, -0.01957941,\n",
       "         0.05838411,  0.13634764,  0.21431115,  0.29227468,  0.3702382 ,\n",
       "         0.44820172,  0.52616525,  0.6041288 ,  0.6820923 ,  0.76005584,\n",
       "         0.8380194 ,  0.91598284,  0.9939464 ,  1.0719099 ,  1.1498735 ,\n",
       "         1.227837  ], dtype=float32),\n",
       " <a list of 20 Patch objects>)"
      ]
     },
     "execution_count": 12,
     "metadata": {},
     "output_type": "execute_result"
    },
    {
     "data": {
      "image/png": "[encoded data removed]",
      "text/plain": [
       "<Figure size 432x288 with 1 Axes>"
      ]
     },
     "metadata": {
      "needs_background": "light"
     },
     "output_type": "display_data"
    }
   ],
   "source": [
    "plt.hist(save_dist[5], bins = 20)"
   ]
  },
  {
   "cell_type": "code",
   "execution_count": 15,
   "metadata": {},
   "outputs": [
    {
     "data": {
      "text/plain": [
       "(array([ 4., 12., 25., 34., 44., 37., 31., 18., 28., 24., 21., 36., 26.,\n",
       "        21., 25., 27., 40., 28., 10.,  9.]),\n",
       " array([-0.37967882, -0.24522398, -0.11076916,  0.02368567,  0.1581405 ,\n",
       "         0.29259533,  0.42705014,  0.56150496,  0.6959598 ,  0.83041465,\n",
       "         0.96486944,  1.0993242 ,  1.2337791 ,  1.3682339 ,  1.5026888 ,\n",
       "         1.6371436 ,  1.7715985 ,  1.9060532 ,  2.040508  ,  2.174963  ,\n",
       "         2.3094177 ], dtype=float32),\n",
       " <a list of 20 Patch objects>)"
      ]
     },
     "execution_count": 15,
     "metadata": {},
     "output_type": "execute_result"
    },
    {
     "data": {
      "image/png": "[encoded data removed]",
      "text/plain": [
       "<Figure size 432x288 with 1 Axes>"
      ]
     },
     "metadata": {
      "needs_background": "light"
     },
     "output_type": "display_data"
    }
   ],
   "source": [
    "plt.hist(save_dist[10], bins = 20)"
   ]
  },
  {
   "cell_type": "code",
   "execution_count": 14,
   "metadata": {},
   "outputs": [
    {
     "data": {
      "text/plain": [
       "(array([ 4.,  6., 13., 15., 23., 44., 54., 67., 60., 58., 58., 41., 27.,\n",
       "        15.,  8.,  2.,  2.,  2.,  0.,  1.]),\n",
       " array([3.896252 , 4.005532 , 4.1148114, 4.224091 , 4.333371 , 4.442651 ,\n",
       "        4.5519304, 4.6612105, 4.77049  , 4.87977  , 4.98905  , 5.0983295,\n",
       "        5.207609 , 5.3168893, 5.426169 , 5.5354486, 5.6447287, 5.7540083,\n",
       "        5.863288 , 5.972568 , 6.0818477], dtype=float32),\n",
       " <a list of 20 Patch objects>)"
      ]
     },
     "execution_count": 14,
     "metadata": {},
     "output_type": "execute_result"
    },
    {
     "data": {
      "image/png": "[encoded data removed]",
      "text/plain": [
       "<Figure size 432x288 with 1 Axes>"
      ]
     },
     "metadata": {
      "needs_background": "light"
     },
     "output_type": "display_data"
    }
   ],
   "source": [
    "plt.hist(save_dist[-1], bins = 20)"
   ]
  },
  {
   "cell_type": "code",
   "execution_count": 10,
   "metadata": {},
   "outputs": [
    {
     "data": {
      "image/png": "[encoded data removed]",
      "text/plain": [
       "<Figure size 432x288 with 1 Axes>"
      ]
     },
     "metadata": {
      "needs_background": "light"
     },
     "output_type": "display_data"
    }
   ],
   "source": [
    "with torch.no_grad():\n",
    "    noise = torch.Tensor(np.random.uniform(0,1,10)).to(device)\n",
    "    gen_dist = G(noise).cpu().detach().numpy()\n",
    "    plt.hist(gen_dist, bins = 20)"
   ]
  }
 ],
 "metadata": {
  "kernelspec": {
   "display_name": "Python (allennlp)",
   "language": "python",
   "name": "allennlp"
  },
  "language_info": {
   "codemirror_mode": {
    "name": "ipython",
    "version": 3
   },
   "file_extension": ".py",
   "mimetype": "text/x-python",
   "name": "python",
   "nbconvert_exporter": "python",
   "pygments_lexer": "ipython3",
   "version": "3.7.2"
  }
 },
 "nbformat": 4,
 "nbformat_minor": 2
}
